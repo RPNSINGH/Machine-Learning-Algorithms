{
 "cells": [
  {
   "cell_type": "markdown",
   "metadata": {},
   "source": [
    "<h1 style=\"color:navy\">Linear Regression From Scratch :"
   ]
  },
  {
   "cell_type": "code",
   "execution_count": 5,
   "metadata": {},
   "outputs": [],
   "source": [
    "import pandas as pd\n",
    "import matplotlib.pyplot as plt"
   ]
  },
  {
   "cell_type": "code",
   "execution_count": 8,
   "metadata": {},
   "outputs": [],
   "source": [
    "import numpy as np\n",
    "import pandas as pd"
   ]
  },
  {
   "cell_type": "code",
   "execution_count": 9,
   "metadata": {
    "scrolled": true
   },
   "outputs": [
    {
     "data": {
      "text/html": [
       "<div>\n",
       "<style scoped>\n",
       "    .dataframe tbody tr th:only-of-type {\n",
       "        vertical-align: middle;\n",
       "    }\n",
       "\n",
       "    .dataframe tbody tr th {\n",
       "        vertical-align: top;\n",
       "    }\n",
       "\n",
       "    .dataframe thead th {\n",
       "        text-align: right;\n",
       "    }\n",
       "</style>\n",
       "<table border=\"1\" class=\"dataframe\">\n",
       "  <thead>\n",
       "    <tr style=\"text-align: right;\">\n",
       "      <th></th>\n",
       "      <th>area</th>\n",
       "      <th>price</th>\n",
       "    </tr>\n",
       "  </thead>\n",
       "  <tbody>\n",
       "    <tr>\n",
       "      <th>0</th>\n",
       "      <td>2800</td>\n",
       "      <td>50000</td>\n",
       "    </tr>\n",
       "    <tr>\n",
       "      <th>1</th>\n",
       "      <td>3000</td>\n",
       "      <td>54000</td>\n",
       "    </tr>\n",
       "    <tr>\n",
       "      <th>2</th>\n",
       "      <td>3200</td>\n",
       "      <td>53000</td>\n",
       "    </tr>\n",
       "  </tbody>\n",
       "</table>\n",
       "</div>"
      ],
      "text/plain": [
       "   area  price\n",
       "0  2800  50000\n",
       "1  3000  54000\n",
       "2  3200  53000"
      ]
     },
     "execution_count": 9,
     "metadata": {},
     "output_type": "execute_result"
    }
   ],
   "source": [
    "df = pd.read_csv(r\"C:\\Users\\abishake\\Desktop\\Prophilic\\ML\\Linear_Regression\\areaprice.csv\")\n",
    "df.head(3)"
   ]
  },
  {
   "cell_type": "code",
   "execution_count": null,
   "metadata": {},
   "outputs": [],
   "source": [
    "2800*10.499130866650113 + 20957.784951576847"
   ]
  },
  {
   "cell_type": "code",
   "execution_count": 10,
   "metadata": {},
   "outputs": [],
   "source": [
    "x = df.area\n",
    "y = df.price"
   ]
  },
  {
   "cell_type": "code",
   "execution_count": 11,
   "metadata": {},
   "outputs": [
    {
     "data": {
      "text/plain": [
       "LinearRegression()"
      ]
     },
     "execution_count": 11,
     "metadata": {},
     "output_type": "execute_result"
    }
   ],
   "source": [
    "from sklearn .linear_model import LinearRegression\n",
    "reg  = LinearRegression()\n",
    "reg.fit(df[['area']],df.price)"
   ]
  },
  {
   "cell_type": "code",
   "execution_count": 12,
   "metadata": {},
   "outputs": [
    {
     "data": {
      "text/plain": [
       "array([10.49913087])"
      ]
     },
     "execution_count": 12,
     "metadata": {},
     "output_type": "execute_result"
    }
   ],
   "source": [
    "reg.coef_"
   ]
  },
  {
   "cell_type": "code",
   "execution_count": 13,
   "metadata": {
    "scrolled": true
   },
   "outputs": [
    {
     "data": {
      "text/plain": [
       "20957.78495157686"
      ]
     },
     "execution_count": 13,
     "metadata": {},
     "output_type": "execute_result"
    }
   ],
   "source": [
    "reg.intercept_"
   ]
  },
  {
   "cell_type": "code",
   "execution_count": 14,
   "metadata": {},
   "outputs": [
    {
     "data": {
      "text/plain": [
       "0.9855756062210629"
      ]
     },
     "execution_count": 14,
     "metadata": {},
     "output_type": "execute_result"
    }
   ],
   "source": [
    "reg.score(df[['area']],df.price)"
   ]
  },
  {
   "cell_type": "markdown",
   "metadata": {},
   "source": [
    "<h3 style=\"color:green\"> Calculatong Mean of Population "
   ]
  },
  {
   "cell_type": "code",
   "execution_count": 15,
   "metadata": {},
   "outputs": [
    {
     "name": "stdout",
     "output_type": "stream",
     "text": [
      "3727.2727272727275 60090.90909090909\n"
     ]
    }
   ],
   "source": [
    "x_mean = df['area'].mean()\n",
    "y_mean = df['price'].mean()\n",
    "print(x_mean,y_mean)"
   ]
  },
  {
   "cell_type": "code",
   "execution_count": 6,
   "metadata": {},
   "outputs": [
    {
     "data": {
      "text/plain": [
       "(11, 2)"
      ]
     },
     "execution_count": 6,
     "metadata": {},
     "output_type": "execute_result"
    }
   ],
   "source": [
    "df.shape"
   ]
  },
  {
   "cell_type": "markdown",
   "metadata": {},
   "source": [
    "<h3 style=\"color:green\"> Function for Slope or Coefficient and Intercept"
   ]
  },
  {
   "cell_type": "code",
   "execution_count": null,
   "metadata": {},
   "outputs": [],
   "source": [
    " nr += (x[1] - x_mean) * (y[1] - y_mean)\n",
    "        dr += (x[1]- x_mean)**2\n",
    "        m = nr/ dr\n",
    "        b = y_mean - (m * x_mean)"
   ]
  },
  {
   "cell_type": "code",
   "execution_count": 18,
   "metadata": {},
   "outputs": [],
   "source": [
    "# slope or m\n",
    "n= df.shape[0]\n",
    "def coeff_bias(x,y):\n",
    "    global m,b\n",
    "    \n",
    "    nr = dr =  0    \n",
    "    \n",
    "    for i in range (n):\n",
    "        nr += (x[i] - x_mean) * (y[i] - y_mean)\n",
    "        dr += (x[i]- x_mean)**2\n",
    "        m = nr/ dr\n",
    "        b = y_mean - (m * x_mean)\n",
    "    print(f\"\"\"\\t\\tNumerator :  {nr} \n",
    "                Denominator :{dr}\n",
    "                Slope(m) :   {m}\n",
    "                Bias (b)  :  {b}\"\"\")\n",
    "    return m , b, nr , dr "
   ]
  },
  {
   "cell_type": "code",
   "execution_count": 19,
   "metadata": {
    "scrolled": true
   },
   "outputs": [
    {
     "name": "stdout",
     "output_type": "stream",
     "text": [
      "\t\tNumerator :  76872727.27272728 \n",
      "                Denominator :7321818.181818182\n",
      "                Slope(m) :   10.499130866650113\n",
      "                Bias (b)  :  20957.784951576847\n"
     ]
    }
   ],
   "source": [
    "val  = coeff_bias(x,y)\n"
   ]
  },
  {
   "cell_type": "code",
   "execution_count": 12,
   "metadata": {},
   "outputs": [
    {
     "data": {
      "text/plain": [
       "10.499130866650113"
      ]
     },
     "execution_count": 12,
     "metadata": {},
     "output_type": "execute_result"
    }
   ],
   "source": [
    "m"
   ]
  },
  {
   "cell_type": "markdown",
   "metadata": {},
   "source": [
    "<h3 style=\"color:green\"> Function for prediction"
   ]
  },
  {
   "cell_type": "code",
   "execution_count": 13,
   "metadata": {
    "scrolled": true
   },
   "outputs": [
    {
     "data": {
      "text/plain": [
       "[50355.35137819716,\n",
       " 52455.17755152719,\n",
       " 54555.003724857204,\n",
       " 59804.56915818226,\n",
       " 62954.308418177294,\n",
       " 67153.96076483733,\n",
       " 70303.70002483237,\n",
       " 60854.48224484728,\n",
       " 65054.13459150732,\n",
       " 73453.43928482741,\n",
       " 44055.87285820709]"
      ]
     },
     "execution_count": 13,
     "metadata": {},
     "output_type": "execute_result"
    }
   ],
   "source": [
    "def y_pred(x):\n",
    "    global y_pred\n",
    "    y_pred = []\n",
    "    for i in range(n):\n",
    "        y_pred.append(m * x[i] + b)\n",
    "    return y_pred\n",
    "y_pred(x)\n"
   ]
  },
  {
   "cell_type": "code",
   "execution_count": 14,
   "metadata": {
    "scrolled": true
   },
   "outputs": [
    {
     "data": {
      "text/plain": [
       "0     50000\n",
       "1     54000\n",
       "2     53000\n",
       "3     60000\n",
       "4     63000\n",
       "5     67000\n",
       "6     70000\n",
       "7     59000\n",
       "8     65000\n",
       "9     75000\n",
       "10    45000\n",
       "Name: price, dtype: int64"
      ]
     },
     "execution_count": 14,
     "metadata": {},
     "output_type": "execute_result"
    }
   ],
   "source": [
    "y"
   ]
  },
  {
   "cell_type": "markdown",
   "metadata": {},
   "source": [
    "<h3 style=\"color:green\"> Function for best fit line visulization"
   ]
  },
  {
   "cell_type": "code",
   "execution_count": 15,
   "metadata": {
    "scrolled": true
   },
   "outputs": [
    {
     "data": {
      "image/png": "[encoded data removed]",
      "text/plain": [
       "<Figure size 432x288 with 1 Axes>"
      ]
     },
     "metadata": {
      "needs_background": "light"
     },
     "output_type": "display_data"
    }
   ],
   "source": [
    "%matplotlib inline\n",
    "def best_fit_line(x,y,y_pred):\n",
    "    # Ploting Line\n",
    "    #def visulization ()\n",
    "    plt.plot(x, y_pred, color='#58b970', label='Regression Line')\n",
    "    # Ploting Scatter Points\n",
    "    plt.scatter(x, y, c='blue', label='Scatter Plot')\n",
    "\n",
    "    plt.xlabel('area')\n",
    "    plt.ylabel('price')\n",
    "    plt.legend()\n",
    "    plt.show()\n",
    "best_fit_line(x,y,y_pred)"
   ]
  },
  {
   "cell_type": "markdown",
   "metadata": {},
   "source": [
    "<h3 style=\"color:green\"> Function for prediction Error"
   ]
  },
  {
   "cell_type": "code",
   "execution_count": 17,
   "metadata": {},
   "outputs": [],
   "source": [
    "#Error   MSE  or Rmse\n",
    "from math import sqrt\n",
    "def rmse(y,y_pred):\n",
    "    global rmse ,mse\n",
    "    \n",
    "   # mse,rmse=0,0\n",
    "    mse = 1/n*(sum([val**2 for val in (y-y_pred)]))\n",
    "    rmse = sqrt(mse)\n",
    "    print(f\"\"\"\\tMean Squared Error         :{mse},\n",
    "        Root of Mean Squares Error :{rmse}\"\"\")\n",
    "    return mse , rmse\n",
    "        "
   ]
  },
  {
   "cell_type": "code",
   "execution_count": 18,
   "metadata": {
    "scrolled": true
   },
   "outputs": [
    {
     "name": "stdout",
     "output_type": "stream",
     "text": [
      "\tMean Squared Error         :1073842.4724021924,\n",
      "        Root of Mean Squares Error :1036.2637079441663\n"
     ]
    },
    {
     "data": {
      "text/plain": [
       "(1073842.4724021924, 1036.2637079441663)"
      ]
     },
     "execution_count": 18,
     "metadata": {},
     "output_type": "execute_result"
    }
   ],
   "source": [
    "a=rmse(y,y_pred)\n",
    "a"
   ]
  },
  {
   "cell_type": "markdown",
   "metadata": {},
   "source": [
    "<h3 style=\"color:green\"> Function for prediction score (or R_square)"
   ]
  },
  {
   "cell_type": "code",
   "execution_count": 19,
   "metadata": {},
   "outputs": [],
   "source": [
    "# Calculating R Square Score\n",
    "#ssr - Sum of Square of Residuals(or errors)\n",
    "#sst - Sum of Total_Avg of Squares\n",
    "def score(y,y_pred):\n",
    "    global ssr,sst,R_square\n",
    "    ssr = sum([val**2 for val in (y-y_pred)])\n",
    "    sst = sum([val**2 for val in (y-y_mean)])\n",
    "    xx = ssr/sst\n",
    "    R_square = (1- xx)\n",
    "    return R_square"
   ]
  },
  {
   "cell_type": "code",
   "execution_count": 20,
   "metadata": {},
   "outputs": [
    {
     "data": {
      "text/plain": [
       "0.9855756062210629"
      ]
     },
     "execution_count": 20,
     "metadata": {},
     "output_type": "execute_result"
    }
   ],
   "source": [
    "x=score(y,y_pred)\n",
    "x"
   ]
  },
  {
   "cell_type": "markdown",
   "metadata": {},
   "source": [
    "<h2 style=\"color:purple\"> Class for For Linear Regression :"
   ]
  },
  {
   "cell_type": "code",
   "execution_count": null,
   "metadata": {},
   "outputs": [],
   "source": []
  }
 ],
 "metadata": {
  "kernelspec": {
   "display_name": "Python 3",
   "language": "python",
   "name": "python3"
  },
  "language_info": {
   "codemirror_mode": {
    "name": "ipython",
    "version": 3
   },
   "file_extension": ".py",
   "mimetype": "text/x-python",
   "name": "python",
   "nbconvert_exporter": "python",
   "pygments_lexer": "ipython3",
   "version": "3.9.5"
  }
 },
 "nbformat": 4,
 "nbformat_minor": 4
}
